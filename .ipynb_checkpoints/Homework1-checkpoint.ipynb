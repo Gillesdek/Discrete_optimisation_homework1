{
 "cells": [
  {
   "cell_type": "markdown",
   "id": "31e685d7",
   "metadata": {},
   "source": [
    "*Laetitia BERNE* <br>*Gilles DECKNACHE* <br>*Romain JALBERT*\n",
    "\n",
    "# Homework n°1\n",
    "\n",
    "### Importation des modules nécessaires\n"
   ]
  },
  {
   "cell_type": "code",
   "execution_count": 1,
   "id": "e67ef78d",
   "metadata": {},
   "outputs": [],
   "source": [
    "from pyomo.environ import *\n",
    "from pyomo.opt import SolverFactory\n",
    "from pyomo.opt import SolverStatus, TerminationCondition\n",
    "\n",
    "import os, sys\n",
    "sys.path.insert(0,os.path.abspath(os.path.join(os.path.abspath(''),'../utilities')))\n",
    "import optmodel_utilities as opt_utils   "
   ]
  },
  {
   "cell_type": "markdown",
   "id": "9bd7ffe0",
   "metadata": {},
   "source": [
    "### Création du modèle avec la relaxation linéaire"
   ]
  },
  {
   "cell_type": "code",
   "execution_count": 2,
   "id": "3536b7e5",
   "metadata": {},
   "outputs": [],
   "source": [
    "def Create_model():\n",
    "\n",
    "    model = AbstractModel()\n",
    "    \n",
    "    # Paramètre : nombre de sommets dans le graphe\n",
    "    model.n = Param()\n",
    "    \n",
    "    # Ensemble des sommets du graphe\n",
    "    model.V = RangeSet(model.n)\n",
    "    \n",
    "    # Paramètre : le coût d'installation d'un relai dans une localisation donnée\n",
    "    model.c = Param(model.V)\n",
    "    \n",
    "    # Ensemble des arcs présents dans le graphe\n",
    "    model.E = Set(within = model.V*model.V)\n",
    "    \n",
    "    \n",
    "    # Variables\n",
    "    model.x = Var(model.V, within = NonNegativeReals) \n",
    "    \n",
    "    \n",
    "    # Fonction Objectif : minimisation de la somme des coûts\n",
    "    def Objectif(model):\n",
    "        return sum(model.c[i]*model.x[i] for i in model.V)\n",
    "    \n",
    "    model.cout_total = Objective(rule=Objectif, sense=minimize)\n",
    "    \n",
    "    \n",
    "    # Contraintes\n",
    "    def regle_Contrainte(model, i, j):\n",
    "        return model.x[i] + model.x[j] >= 1\n",
    "    \n",
    "    model.contrainte = Constraint(model.E, rule=regle_Contrainte)\n",
    "   \n",
    "    \n",
    "    return model"
   ]
  },
  {
   "cell_type": "markdown",
   "id": "355a0d3f",
   "metadata": {},
   "source": [
    "### Création d'une instance et résolution "
   ]
  },
  {
   "cell_type": "code",
   "execution_count": 3,
   "id": "cc821a19",
   "metadata": {},
   "outputs": [],
   "source": [
    "# Choix du solver\n",
    "optsolver = opt_utils.create_solver()\n",
    "\n",
    "# Création du modèle\n",
    "model = Create_model()\n",
    "\n",
    "# Chargement des données depuis un fichier (et création d'une instance)\n",
    "instance = model.create_instance('MRP_10.dat')        # MRP_20 ; MRP_40 ; MRP_80 ; MRP_160\n",
    "\n",
    "#This command allow to print the full structure of the instance/model\n",
    "#instance.pprint()\n",
    "\n",
    "#solving the problem\n",
    "results = optsolver.solve(instance)\n"
   ]
  },
  {
   "cell_type": "markdown",
   "id": "6890df0f",
   "metadata": {},
   "source": [
    "### Affichage des résultats de la relaxation linéaire du problème"
   ]
  },
  {
   "cell_type": "code",
   "execution_count": 4,
   "id": "25332703",
   "metadata": {},
   "outputs": [
    {
     "name": "stdout",
     "output_type": "stream",
     "text": [
      "OBJ:  cout_total  =  15.0\n",
      "x [ 1 ] =  0.5\n",
      "x [ 2 ] =  0.5\n",
      "x [ 3 ] =  0.0\n",
      "x [ 4 ] =  0.0\n",
      "x [ 5 ] =  1.0\n",
      "x [ 6 ] =  1.0\n",
      "x [ 7 ] =  0.5\n",
      "x [ 8 ] =  0.0\n",
      "x [ 9 ] =  0.5\n",
      "x [ 10 ] =  0.5\n"
     ]
    }
   ],
   "source": [
    "if (results.solver.status == SolverStatus.ok) and \\\n",
    "    (results.solver.termination_condition == TerminationCondition.optimal):\n",
    "\n",
    "    opt_utils.print_objective_value(instance)\n",
    "    opt_utils.print_point_from_model(instance)\n",
    "    \n",
    "    # dictionnaire pour stocker les valeurs des variables\n",
    "    xi_values = {}\n",
    "\n",
    "    for var in instance.component_objects(Var, active=True):\n",
    "        varobject = getattr(instance, str(var))\n",
    "        for index in varobject:\n",
    "            xi_values[index] = varobject[index].value\n",
    "    \n",
    "    n = instance.n.value\n",
    "    ensemble_E = instance.E.data()\n",
    "    \n",
    "    \n",
    "else :\n",
    "    print(\"Some problem occurred. Solver terminated with condition \", results.solver.termination_condition)"
   ]
  },
  {
   "cell_type": "markdown",
   "id": "6c38a3db",
   "metadata": {},
   "source": [
    "### Randomized rounding"
   ]
  },
  {
   "cell_type": "code",
   "execution_count": 5,
   "id": "203feb14",
   "metadata": {},
   "outputs": [
    {
     "name": "stdout",
     "output_type": "stream",
     "text": [
      "{1: 0.5, 2: 0.5, 3: 0.0, 4: 0.0, 5: 1.0, 6: 1.0, 7: 0.5, 8: 0.0, 9: 0.5, 10: 0.5}\n",
      "[(1, 6), (1, 7), (1, 9), (1, 10), (2, 7), (2, 9), (2, 10), (3, 6), (5, 8), (6, 7), (6, 9), (6, 10), (7, 9), (9, 10)]\n"
     ]
    }
   ],
   "source": [
    "# Création de l'ensemble C qui contiendra les sommets où on va installer une antenne\n",
    "C = []\n",
    "\n",
    "# Conversion de l'ensemble des arcs en une liste, que l'on va pouvoir modifier (c'était un tuple jusqu'à présent)\n",
    "E = list(ensemble_E)    \n",
    "\n",
    "print(xi_values)\n",
    "print(E)"
   ]
  },
  {
   "cell_type": "code",
   "execution_count": 6,
   "id": "b4675a26",
   "metadata": {},
   "outputs": [
    {
     "name": "stdout",
     "output_type": "stream",
     "text": [
      "[5, 6]\n",
      "{(1, 6): 'oui', (1, 7): 'non', (1, 9): 'non', (1, 10): 'non', (2, 7): 'non', (2, 9): 'non', (2, 10): 'non', (3, 6): 'oui', (5, 8): 'oui', (6, 7): 'oui', (6, 9): 'oui', (6, 10): 'oui', (7, 9): 'non', (9, 10): 'non'}\n",
      "8\n"
     ]
    }
   ],
   "source": [
    "# E_new est un dictionnaire : \n",
    "# clé : arcs de E \n",
    "# valeur : 'oui' si l'arc est couvert\n",
    "#          'Non' sinon\n",
    "\n",
    "\n",
    "E_new={}\n",
    "\n",
    "# Initialisation de E_new\n",
    "for arc in E:\n",
    "    E_new[arc]='non'\n",
    "\n",
    "\n",
    "nb_arc = len(E) # c'est le nombre d'arc qu'il reste à couvrir\n",
    "\n",
    "\n",
    "# On ajoute à C les sommets qui ont déjà la valeur 1 et on actualise E et nb_arc\n",
    "for i in range(1, n+1):\n",
    "    \n",
    "    if xi_values[i] == 1 :\n",
    "        C.append(i)\n",
    "                \n",
    "        for indice_arc in range(len(E)) :\n",
    "            if E[indice_arc][0] == i or E[indice_arc][1] == i : # Si indice arc est lié au sommet i \n",
    "                if E_new[E[indice_arc]]=='non': # et que l'arc n'était pas couvert\n",
    "                    E_new[E[indice_arc]]='oui' # alors on couvre l'arc\n",
    "                    nb_arc = nb_arc - 1 # et on a un arc en moins à couvrir\n",
    "                \n",
    "        \n",
    "print(C)\n",
    "print(E_new)\n",
    "print(nb_arc)"
   ]
  },
  {
   "cell_type": "markdown",
   "id": "b9e6be4e",
   "metadata": {},
   "source": [
    "ii. Until the set of edges E is entirely covered by C ⊆ V (that is every edge has at least one\n",
    "endpoint in C):\n",
    "Select randomly a vertex i ∈ V such that 0 <  ̄xi < 1, and add i to C with probability  ̄xi."
   ]
  },
  {
   "cell_type": "code",
   "execution_count": 8,
   "id": "efbc89c2",
   "metadata": {},
   "outputs": [
    {
     "name": "stdout",
     "output_type": "stream",
     "text": [
      "[5, 6, 10, 2, 1, 7]\n"
     ]
    }
   ],
   "source": [
    "from random import random,choice\n",
    "\n",
    "# On récupère la liste des sommets\n",
    "\n",
    "V = list(instance.V.data())\n",
    "\n",
    "# On génère un nombre entre 0 et 1\n",
    "r = random()\n",
    "\n",
    "for noeud in C:\n",
    "    V.remove(noeud)\n",
    "\n",
    "# On veut couvrir tout le graphe \n",
    "\n",
    "while nb_arc != 0:\n",
    "    \n",
    "    # On choisi un noeud au hasard\n",
    "    noeud = choice(V)\n",
    "    \n",
    "    # On arrondit le neoud avec la proba xi \n",
    "    if xi_values[noeud] > r :\n",
    "        \n",
    "        C.append(noeud)\n",
    "        V.remove(noeud)\n",
    "        \n",
    "        # Actualisation de E_new et du nombre d'arc\n",
    "        for indice_arc in range(len(E)) :\n",
    "            if E[indice_arc][0] == noeud or E[indice_arc][1] == noeud :\n",
    "                if E_new[E[indice_arc]]=='non':\n",
    "                    E_new[E[indice_arc]]='oui'\n",
    "                    nb_arc -= 1 \n",
    "\n",
    "                    \n",
    "print(C)"
   ]
  },
  {
   "cell_type": "markdown",
   "id": "876b1a88",
   "metadata": {},
   "source": [
    "### Very Large Scale Neighborhood (VLSN)"
   ]
  },
  {
   "cell_type": "code",
   "execution_count": 43,
   "id": "ac58eacc",
   "metadata": {},
   "outputs": [],
   "source": [
    "def VLSN(L_,L,k):\n",
    "    L_.append(L)\n",
    "    if k!=0: \n",
    "        for i in range(len(L)):\n",
    "            L2 = L.copy()\n",
    "            if L[i]==1:\n",
    "                L2[i]=0\n",
    "            if L[i]==0:\n",
    "                L2[i]=1\n",
    "            VLSN(L_,L2,k-1)\n",
    "            \n",
    "def VLSN_main(L,k):\n",
    "    L_=[]\n",
    "    \n",
    "    VLSN(L_,L,k)\n",
    "    return L_\n",
    "    \n",
    "\n",
    "         \n",
    "      "
   ]
  },
  {
   "cell_type": "code",
   "execution_count": 44,
   "id": "b0acd650",
   "metadata": {},
   "outputs": [],
   "source": [
    "k = VLSN_main([0,1,0],2)\n"
   ]
  },
  {
   "cell_type": "code",
   "execution_count": 45,
   "id": "5f4526db",
   "metadata": {},
   "outputs": [
    {
     "name": "stdout",
     "output_type": "stream",
     "text": [
      "[[0, 1, 0], [1, 1, 0], [0, 1, 0], [1, 0, 0], [1, 1, 1], [0, 0, 0], [1, 0, 0], [0, 1, 0], [0, 0, 1], [0, 1, 1], [1, 1, 1], [0, 0, 1], [0, 1, 0]]\n",
      "\n",
      "[(1, 1, 0), (0, 1, 0), (0, 0, 0), (1, 0, 0), (0, 0, 1), (1, 1, 1), (0, 1, 1)]\n"
     ]
    }
   ],
   "source": [
    "print(k)\n",
    "print()\n",
    "\n",
    "for i in range(len(k)):\n",
    "    k[i] = tuple(k[i])\n",
    "\n",
    "print(list(set(k)))"
   ]
  },
  {
   "cell_type": "markdown",
   "id": "970391ca",
   "metadata": {},
   "source": [
    "*Pour information :*<br>\n",
    "Solution du problème BINAIRE de MRP_10.dat : cout_total = 17, avec <br>\n",
    "x [ 1 ] =  1.0 <br>\n",
    "x [ 2 ] =  1.0 <br>\n",
    "x [ 3 ] =  0.0 <br>\n",
    "x [ 4 ] =  0.0<br>\n",
    "x [ 5 ] =  1.0<br>\n",
    "x [ 6 ] =  1.0<br>\n",
    "x [ 7 ] =  0.0<br>\n",
    "x [ 8 ] =  0.0<br>\n",
    "x [ 9 ] =  1.0<br>\n",
    "x [ 10 ] =  0.0"
   ]
  },
  {
   "cell_type": "code",
   "execution_count": null,
   "id": "02acf72a",
   "metadata": {},
   "outputs": [],
   "source": []
  }
 ],
 "metadata": {
  "kernelspec": {
   "display_name": "Python 3 (ipykernel)",
   "language": "python",
   "name": "python3"
  },
  "language_info": {
   "codemirror_mode": {
    "name": "ipython",
    "version": 3
   },
   "file_extension": ".py",
   "mimetype": "text/x-python",
   "name": "python",
   "nbconvert_exporter": "python",
   "pygments_lexer": "ipython3",
   "version": "3.9.13"
  }
 },
 "nbformat": 4,
 "nbformat_minor": 5
}
